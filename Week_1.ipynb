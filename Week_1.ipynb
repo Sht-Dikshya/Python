{
 "cells": [
  {
   "cell_type": "markdown",
   "metadata": {},
   "source": [
    "**<h2><center>Week 1 - Assignment </center></h2>**\n",
    "<h4><center>Dikshya Shrestha</center></h4>\n",
    "<h4><center>Presidential Graduate School</center></h4>\n",
    "<h4><center>PRG 330: Python Programming</center></h4>\n",
    "<h4><center>Professor Tek Raj Pant </center></h4>\n",
    "<h4><center>January 11, 2025</center></h4>"
   ]
  },
  {
   "cell_type": "markdown",
   "metadata": {},
   "source": [
    "# **Introduction to Python Programming: Printing 'Hello, World!'**"
   ]
  },
  {
   "cell_type": "code",
   "execution_count": 6,
   "metadata": {},
   "outputs": [
    {
     "name": "stdout",
     "output_type": "stream",
     "text": [
      "Printing directly: Hello, World!\n",
      "Use of string variable:  Hello, World!\n",
      "Length of the message: 13\n",
      "First character: H\n",
      "Last character: !\n",
      "FIrst name using substring: Hello\n",
      "Combined message: Hello, World! Have a great day!\n",
      "Lowercase: hello, world!\n",
      "Uppercase: HELLO, WORLD!\n",
      "Capitalize: Hello, world!\n",
      "Paragraph: Hello, World!\n",
      "This is a simple Python program.\n",
      "Jupyter Notebook makes it easy to run Python code.\n",
      "Short form of Hello Wonderful World is: HWW\n"
     ]
    }
   ],
   "source": [
    "# Print \"Hello, World!\" directly\n",
    "print(\"Printing directly:\", \"Hello, World!\")  # Directly output the message\n",
    "\n",
    "# Using a string variable to store and print \"Hello, World!\"\n",
    "message = \"Hello, World!\"\n",
    "print(\"Use of string variable: \",message)  # Print the message stored in the variable\n",
    "\n",
    "# Length of the string\n",
    "message_length = len(message)  # Get the total number of characters\n",
    "print(\"Length of the message:\", message_length)\n",
    "\n",
    "# Accessing individual characters\n",
    "first_char = message[0]  # First character\n",
    "last_char = message[-1]  # Last character\n",
    "print(\"First character:\", first_char)\n",
    "print(\"Last character:\", last_char)\n",
    "\n",
    "# Substring (e.g., extract \"Hello\")\n",
    "first_name = message[0:5]  # Get characters from index 0 to 4\n",
    "print(\"FIrst name using substring:\", first_name)\n",
    "\n",
    "# String concatenation\n",
    "anything = \" Have a great day!\"\n",
    "concatenation = message + anything  # Combine two strings\n",
    "print(\"Combined message:\", concatenation)\n",
    "\n",
    "# String methods\n",
    "print(\"Lowercase:\", message.lower())  # Convert to lowercase\n",
    "print(\"Uppercase:\", message.upper())  # Convert to uppercase\n",
    "print(\"Capitalize:\", message.capitalize())  # Capitalize the first letter\n",
    "\n",
    "# Multi-line string (paragraph)\n",
    "paragraph = \"\"\"Hello, World!\n",
    "This is a simple Python program.\n",
    "Jupyter Notebook makes it easy to run Python code.\"\"\"\n",
    "print(\"Paragraph:\", paragraph)\n",
    "\n",
    "# Short form creation\n",
    "greeting = \"Hello Wonderful World\"\n",
    "short_form = greeting[0] + greeting[6] + greeting[16]  # First letters of each word\n",
    "print(\"Short form of Hello Wonderful World is:\", short_form)\n"
   ]
  }
 ],
 "metadata": {
  "kernelspec": {
   "display_name": "base",
   "language": "python",
   "name": "python3"
  },
  "language_info": {
   "codemirror_mode": {
    "name": "ipython",
    "version": 3
   },
   "file_extension": ".py",
   "mimetype": "text/x-python",
   "name": "python",
   "nbconvert_exporter": "python",
   "pygments_lexer": "ipython3",
   "version": "3.12.4"
  }
 },
 "nbformat": 4,
 "nbformat_minor": 2
}
