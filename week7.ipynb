{
 "cells": [
  {
   "cell_type": "markdown",
   "metadata": {},
   "source": [
    "**<h2><center>Week 7 Assignment </center></h2>**\n",
    "<h4><center>Dikshya Shrestha</center></h4>\n",
    "<h4><center>Presidential Graduate School</center></h4>\n",
    "<h4><center>PRG 330: Python Programming</center></h4>\n",
    "<h4><center>Professor Tek Raj Pant </center></h4>\n",
    "<h4><center>February 22, 2025</center></h4>"
   ]
  },
  {
   "cell_type": "markdown",
   "metadata": {},
   "source": [
    "# **Homework**"
   ]
  },
  {
   "cell_type": "markdown",
   "metadata": {},
   "source": [
    "# Question 1:\n",
    "- Searching for Elements in a Collection (Use Dict)\n",
    "\n",
    "    -   Write a function so that from a given list of length n, if an element exists on the list return True, else False"
   ]
  },
  {
   "cell_type": "code",
   "execution_count": 2,
   "metadata": {},
   "outputs": [
    {
     "name": "stdout",
     "output_type": "stream",
     "text": [
      "False\n",
      "True\n",
      "True\n"
     ]
    }
   ],
   "source": [
    "# Linear Search\n",
    "def linear_search(arr,target):\n",
    "    for i in range(len(arr)):\n",
    "        if arr[i]== target:\n",
    "            return True\n",
    "    return False\n",
    "arr=[2,9,1,6,10, 15, 12]\n",
    "print(linear_search(arr,5)) # check that 5 is in given array\n",
    "print(linear_search(arr,15))\n",
    "\n",
    "# Use Set to optimize the search 0(1)\n",
    "def optimized_search(arr,target):\n",
    "    hash_set= set(arr)\n",
    "    return target in hash_set\n",
    "\n",
    "arr= [5,2,9,1,5,6]\n",
    "print(optimized_search(arr,5))  #(0(1))"
   ]
  },
  {
   "cell_type": "markdown",
   "metadata": {},
   "source": [
    "# Question 2:\n",
    "\n",
    "- Queue-based Problems\n",
    "\n",
    "    -   **FIFO** (use deque from the collection)\n",
    "\n",
    "    -   Task: Simulate **FIFO Queue** with list and with deque and profile the time complexity"
   ]
  },
  {
   "cell_type": "code",
   "execution_count": null,
   "metadata": {},
   "outputs": [
    {
     "name": "stdout",
     "output_type": "stream",
     "text": [
      "Initial queue (list): [1, 3, 5, 7, 3, 4, 5]\n",
      "After enqueueing 6 (list): [1, 3, 5, 7, 3, 4, 5, 6]\n",
      "After dequeuing (list): [3, 5, 7, 3, 4, 5, 6]\n",
      "Time taken for FIFO using list: 0.0006077289581298828\n",
      "\n",
      "Initial queue (deque): [1, 3, 5, 7, 3, 4, 5]\n",
      "After enqueueing 6 (deque): [1, 3, 5, 7, 3, 4, 5, 6]\n",
      "After dequeuing (deque): [3, 5, 7, 3, 4, 5, 6]\n",
      "Time taken for FIFO using deque: 0.0007159709930419922\n"
     ]
    }
   ],
   "source": [
    "from collections import deque\n",
    "import time\n",
    "\n",
    "### FIFO Queue Simulation (First-In-First-Out)\n",
    "\n",
    "# Without optimization: Using list (O(n)) for dequeuing\n",
    "queue = [1, 3, 5, 7, 3, 4, 5]\n",
    "print(\"Initial queue (list):\", queue)\n",
    "\n",
    "# Profiling FIFO with list\n",
    "start_time = time.time()\n",
    "queue.append(6)   # Enqueue (O(1))\n",
    "print(\"After enqueueing 6 (list):\", queue)\n",
    "\n",
    "queue.pop(0)       # Dequeue (O(n))\n",
    "print(\"After dequeuing (list):\", queue)\n",
    "end_time = time.time()\n",
    "\n",
    "print(\"Time taken for FIFO using list:\", end_time - start_time)\n",
    "\n",
    "\n",
    "# Optimized: Using deque (O(1) for enqueue/dequeue)\n",
    "queue_deque = deque([1, 3, 5, 7, 3, 4, 5])\n",
    "print(\"\\nInitial queue (deque):\", list(queue_deque))\n",
    "\n",
    "# Profiling FIFO with deque\n",
    "start_time = time.time()\n",
    "queue_deque.append(6)   # Enqueue (O(1))\n",
    "print(\"After enqueueing 6 (deque):\", list(queue_deque))\n",
    "\n",
    "queue_deque.popleft()   # Dequeue (O(1))\n",
    "print(\"After dequeuing (deque):\", list(queue_deque))\n",
    "end_time = time.time()\n",
    "\n",
    "print(\"Time taken for FIFO using deque:\", end_time - start_time)\n"
   ]
  },
  {
   "cell_type": "markdown",
   "metadata": {},
   "source": [
    "# Question 3:\n",
    "- Queue-based Problems\n",
    "\n",
    "    -   **LIFO** (use deque from the collection)\n",
    "\n",
    "    -   Task: Simulate **LIFO Queue** with list and with deque and profile the time complexity"
   ]
  },
  {
   "cell_type": "code",
   "execution_count": 11,
   "metadata": {},
   "outputs": [
    {
     "name": "stdout",
     "output_type": "stream",
     "text": [
      "Initial stack (list): [1, 3, 5, 7, 3, 4, 5]\n",
      "After pushing 6 (list): [1, 3, 5, 7, 3, 4, 5, 6]\n",
      "After popping (list): [1, 3, 5, 7, 3, 4, 5]\n",
      "Time taken for LIFO using list: 0.0\n",
      "\n",
      "Initial stack (deque): [1, 3, 5, 7, 3, 4, 5]\n",
      "After pushing 6 (deque): [1, 3, 5, 7, 3, 4, 5, 6]\n",
      "After popping (deque): [1, 3, 5, 7, 3, 4, 5]\n",
      "Time taken for LIFO using deque: 0.0\n"
     ]
    }
   ],
   "source": [
    "from collections import deque\n",
    "import time\n",
    "\n",
    "### LIFO Queue Simulation (Last-In-First-Out)\n",
    "\n",
    "# Without optimization: Using list (O(1) for push/pop)\n",
    "stack_list = [1, 3, 5, 7, 3, 4, 5]\n",
    "print(\"Initial stack (list):\", stack_list)\n",
    "\n",
    "# Profiling LIFO with list\n",
    "start_time = time.time()\n",
    "stack_list.append(6)   # Push (O(1))\n",
    "print(\"After pushing 6 (list):\", stack_list)\n",
    "\n",
    "stack_list.pop()       # Pop (O(1))\n",
    "print(\"After popping (list):\", stack_list)\n",
    "end_time = time.time()\n",
    "\n",
    "print(\"Time taken for LIFO using list:\", end_time - start_time)\n",
    "\n",
    "\n",
    "# Optimized: Using deque (O(1) for push/pop)\n",
    "stack_deque = deque([1, 3, 5, 7, 3, 4, 5])\n",
    "print(\"\\nInitial stack (deque):\", list(stack_deque))\n",
    "\n",
    "# Profiling LIFO with deque\n",
    "start_time = time.time()\n",
    "stack_deque.append(6)   # Push (O(1))\n",
    "print(\"After pushing 6 (deque):\", list(stack_deque))\n",
    "\n",
    "stack_deque.pop()       # Pop (O(1))\n",
    "print(\"After popping (deque):\", list(stack_deque))\n",
    "end_time = time.time()\n",
    "\n",
    "print(\"Time taken for LIFO using deque:\", end_time - start_time)\n"
   ]
  },
  {
   "cell_type": "markdown",
   "metadata": {},
   "source": [
    "# **Homework**\n",
    "- Explore itertools for memory efficient iteration tasks"
   ]
  },
  {
   "cell_type": "code",
   "execution_count": 22,
   "metadata": {},
   "outputs": [
    {
     "name": "stdout",
     "output_type": "stream",
     "text": [
      "(1, 2, 3)\n",
      "(1, 3, 2)\n",
      "(2, 1, 3)\n",
      "(2, 3, 1)\n",
      "(3, 1, 2)\n",
      "(3, 2, 1)\n"
     ]
    }
   ],
   "source": [
    "### Using Pernutations\n",
    "\n",
    "import itertools\n",
    "\n",
    "# List of elements\n",
    "items = [1, 2, 3]\n",
    "\n",
    "# Generate all permutations of the list without storing them all in memory\n",
    "permutations = itertools.permutations(items)\n",
    "\n",
    "# Loop through each permutation\n",
    "for perm in permutations:\n",
    "    print(perm)\n"
   ]
  },
  {
   "cell_type": "code",
   "execution_count": null,
   "metadata": {},
   "outputs": [
    {
     "name": "stdout",
     "output_type": "stream",
     "text": [
      "(1, 2)\n",
      "(1, 3)\n",
      "(1, 4)\n",
      "(2, 3)\n",
      "(2, 4)\n",
      "(3, 4)\n"
     ]
    }
   ],
   "source": [
    "### Using Combinations\n",
    "import itertools\n",
    "\n",
    "# List of elements\n",
    "items = [1, 2, 3, 4]\n",
    "\n",
    "# Generate all combinations of length 2\n",
    "combinations = itertools.combinations(items, 2)\n",
    "\n",
    "# Loop through each combination\n",
    "for comb in combinations:\n",
    "    print(comb)\n"
   ]
  },
  {
   "cell_type": "code",
   "execution_count": null,
   "metadata": {},
   "outputs": [
    {
     "name": "stdout",
     "output_type": "stream",
     "text": [
      "1\n",
      "2\n",
      "3\n",
      "4\n",
      "5\n",
      "6\n",
      "7\n"
     ]
    }
   ],
   "source": [
    "### Using count\n",
    "import itertools\n",
    "\n",
    "# Generate numbers starting from 5\n",
    "counter = itertools.count(start=1)\n",
    "\n",
    "# Print first 7 numbers\n",
    "for i in range(7):\n",
    "    print(next(counter))\n"
   ]
  },
  {
   "cell_type": "code",
   "execution_count": null,
   "metadata": {},
   "outputs": [
    {
     "name": "stdout",
     "output_type": "stream",
     "text": [
      "1\n",
      "2\n",
      "3\n",
      "4\n",
      "1\n",
      "2\n",
      "3\n",
      "4\n",
      "1\n",
      "2\n"
     ]
    }
   ],
   "source": [
    "### Using cycle\n",
    "import itertools\n",
    "\n",
    "# List of items\n",
    "items = [1, 2, 3, 4]\n",
    "\n",
    "# Cycle through the list indefinitely\n",
    "cycle = itertools.cycle(items)\n",
    "\n",
    "# Print the first 10 elements from the cycle\n",
    "for _ in range(10):\n",
    "    print(next(cycle))\n"
   ]
  },
  {
   "cell_type": "code",
   "execution_count": null,
   "metadata": {},
   "outputs": [
    {
     "name": "stdout",
     "output_type": "stream",
     "text": [
      "1\n",
      "2\n",
      "3\n",
      "4\n",
      "5\n",
      "6\n"
     ]
    }
   ],
   "source": [
    "### Using chain\n",
    "import itertools\n",
    "\n",
    "# Two lists\n",
    "list1 = [1, 2, 3]\n",
    "list2 = [4, 5, 6]\n",
    "\n",
    "# Chain the two lists together\n",
    "chained = itertools.chain(list1, list2)\n",
    "\n",
    "# Loop through the combined list\n",
    "for item in chained:\n",
    "    print(item)\n"
   ]
  },
  {
   "cell_type": "markdown",
   "metadata": {},
   "source": [
    "# Importance of Data Cleaning and Pre-Processing\n",
    "\n",
    "- Data quality is paramount in data science and machine learning.\n",
    "\n",
    "- The input data quality heavily influences machine learning models performance\n",
    "\n",
    "**Data Cleaning**\n",
    "\n",
    "- Data cleaning involves identifying and correcting errors in the dataset, such as deating with missing or inconsistent data, removing duplicates, and handling outliers\n",
    "\n",
    "**Data Pre-Processing**\n",
    "\n",
    "- Data preprocessing includes data cleaning and other steps to prepare the data for machine learning algorithms\n",
    "\n",
    "- It includes data transformation, feature selection, normalization, and reduction\n",
    "\n",
    "- The goal of data preprocessing is to convert raw data into a suitable format that machine learning algorithms can learn"
   ]
  },
  {
   "cell_type": "markdown",
   "metadata": {},
   "source": [
    "# <b><center>Data Cleaning</center></b>\n",
    "\n",
    "Python provides powerful libraries like Pandas, NumPy, and Scikit-learn for performing data-cleaning tasks efficiently.\n",
    "\n",
    "**Data Cleaning Techniques**\n",
    "\n",
    "- Handling Missing Data\n",
    "\n",
    "- Removing duplicates\n",
    "\n",
    "- Foxing the Structural Errors\n",
    "\n",
    "- Outlier Detection and Treatment\n",
    "\n",
    "- Parsing Dates\n",
    "\n",
    "- Removing Irrelevan Data\n",
    "\n",
    "- Text Cleaning\n",
    "\n",
    "- Handling inconsistent Data\n",
    "\n",
    "- Data Type Conversion\n",
    "\n",
    "- Filtering Invalid Data"
   ]
  },
  {
   "cell_type": "markdown",
   "metadata": {},
   "source": [
    "# <b><center>Data PreProcessing</b></center>\n",
    "\n",
    "- Data preprocessing is a crucial step in the machine-learning pipeline,\n",
    "\n",
    "- It involves the transformation and preparation of raw data into a clean, organized, and standardized format\n",
    "\n",
    "suitable for analysis and modes training\n",
    "\n",
    "- High-quality preprocessing ensures that the data is compatible with the chosen algorithms and improves\n",
    "\n",
    "model accuracy, efficiency, and robustness\n",
    "\n",
    "**Steps in Data PreProcessing**\n",
    "\n",
    "- Data Cleaning\n",
    "\n",
    "- Data integration\n",
    "\n",
    "- Data Transformation\n",
    "\n",
    "- Feature Selection\n",
    "\n",
    "- Feature Engineering\n",
    "\n",
    "- Data Reduction\n",
    "\n",
    "- Data Discretization\n",
    "\n",
    "- Handling Imbalanced Data\n",
    "\n",
    "- Splitting DataData Transformation\n",
    "\n",
    "**Tools For Data Processing in Python**\n",
    "\n",
    "1. Pandas: For data manipulation and cleaning\n",
    "\n",
    "2. NumPy: For numerical operations and array manipulation\n",
    "\n",
    "3. Scikit-learn: For scaling, encoding, splitting, and feature selection\n",
    "\n",
    "4. Imbalanced-learn: For handling imbalanced datasets.\n",
    "\n",
    "5. NLTK/Spacy: For text preprocessing in NLP tasks\n",
    "\n",
    "6. OpenCV: For preprocessing image data"
   ]
  },
  {
   "cell_type": "markdown",
   "metadata": {},
   "source": [
    "# <b><center>Outlier Detection</b></center>\n",
    "\n",
    "- An outlier is a data point that significantly deviates from the rest of the dataset\n",
    "\n",
    "- It may result from measurement errors, variability in data, or rare phenomena\n",
    "\n",
    "- Detecting and handling outliers is crocial because they can distort statistical analyses and adversely affect machine learning models\n",
    "\n",
    "**Methods to Detect Outliers**\n",
    "\n",
    "- Visual Methods\n",
    "\n",
    "        Box Plot\n",
    "\n",
    "        Scatter Plot\n",
    "\n",
    "        Histogram\n",
    "\n",
    "- Statistical Methods\n",
    "\n",
    "        Z-Score Method (z= X-mu/sigma)\n",
    "\n",
    "        Interquartile Range (IQR) (Q3-Q1)\n",
    "\n",
    "- Machine Learning Based Methods\n",
    "\n",
    "        Isolation Forest\n",
    "\n",
    "        DBSCAN (Density-Based Spatial Clustering)\n",
    "\n",
    "**Outliers Handling Techniques**\n",
    "\n",
    "- Remove Outliers\n",
    "\n",
    "- Cap/Clip Values\n",
    "\n",
    "- Transform Data\n",
    "\n",
    "- Impute Values"
   ]
  },
  {
   "cell_type": "markdown",
   "metadata": {},
   "source": [
    "# Python I/O Operations\n",
    "\n",
    "**I/0 (Input/Output)** operations are essential for interacting with files, devices or streams in Python. Python provides a robust set of tools and librares to handle I/O efficiently. These operations primarily fall into two categories\n",
    "\n",
    "- File I/O: Reading/Writing Files on Filesystem\n",
    "\n",
    "- Standard I/O Interacting with standard input (stdin) , standard output (stdout) and standard error (stderr)\n"
   ]
  },
  {
   "cell_type": "markdown",
   "metadata": {},
   "source": []
  },
  {
   "cell_type": "code",
   "execution_count": 1,
   "metadata": {},
   "outputs": [
    {
     "name": "stdout",
     "output_type": "stream",
     "text": [
      "Hello. My name is Dikshya Shrestha. Today is Feb 17, 2025/ Falgun 5, 2081. \n"
     ]
    }
   ],
   "source": [
    "with open('data/test.txt', 'r') as text_file:\n",
    "    text_content = text_file.read()\n",
    "\n",
    "print(text_content)"
   ]
  },
  {
   "cell_type": "code",
   "execution_count": 2,
   "metadata": {},
   "outputs": [
    {
     "name": "stdout",
     "output_type": "stream",
     "text": [
      "Hello. My name is Dikshya Shrestha. Today is Feb 17, 2025/ Falgun 5, 2081. Hello. My name is Dikshya Shrestha. Today is Feb 17, 2025/ Falgun 5, 2081. ['Hello. My name is Dikshya Shrestha. Today is Feb 17, 2025/ Falgun 5, 2081. ']\n"
     ]
    }
   ],
   "source": [
    "# Read text content line by line using readLine() and while loop\n",
    "with open('data/test.txt', 'r') as file:\n",
    "    line = file.readline()  # Corrected line\n",
    "    while line:  # As long as there is a line\n",
    "        print(line, end='')\n",
    "        line = file.readline()  # Read the next line\n",
    "\n",
    "# Using for loop\n",
    "with open('data/test.txt', 'r') as file:\n",
    "    for line in file:\n",
    "        print(line, end='')\n",
    "\n",
    "# Get all lines in a list using readlines()\n",
    "with open('data/test.txt', 'r') as file:\n",
    "    lines = file.readlines()\n",
    "    print(lines)"
   ]
  },
  {
   "cell_type": "code",
   "execution_count": 3,
   "metadata": {},
   "outputs": [
    {
     "name": "stdout",
     "output_type": "stream",
     "text": [
      "Directory exists\n"
     ]
    }
   ],
   "source": [
    "import os\n",
    "\n",
    "# Create new directory\n",
    "if not os.path.exists('test-dir'):\n",
    "    os.mkdir('test-dir')\n",
    "\n",
    "# Creating nested directories\n",
    "if not os.path.exists('p-dir/ch-dir'):\n",
    "    os.makedirs('p-dir/ch-dir')\n",
    "\n",
    "# Check if the directory exist\n",
    "if os.path.exists('test-dir'):\n",
    "    print('Directory exists')\n",
    "else:\n",
    "    print('Directory doesnot exists')\n",
    "\n",
    "# List contents of the directory\n",
    "contents= os.listdir('test-dir')\n",
    "\n",
    "# remove dir\n",
    "os.rmdir('test-dir')"
   ]
  },
  {
   "cell_type": "markdown",
   "metadata": {},
   "source": [
    "# Python Performance Tuning and Optimization"
   ]
  },
  {
   "cell_type": "markdown",
   "metadata": {},
   "source": [
    "# <center><b>Introduction to Python Performance Tuning</center></b>\n",
    "\n",
    "**Why Optimize?**\n",
    "\n",
    "- Improve execution time\n",
    "\n",
    "- Reduce memory usage\n",
    "\n",
    "- Increase scalability for large datasets\n",
    "\n",
    "**Challenges:**\n",
    "\n",
    "- Python's dynamic nature\n",
    "\n",
    "- Global Interpreter Lock (GIL)\n",
    "\n",
    "**Key Areas of Optimization**\n",
    "\n",
    "- Algorithmic Optimization\n",
    "\n",
    "- Data Structure Selection\n",
    "\n",
    "- Code Profiling and Analysis\n",
    "\n",
    "- Memory Management\n",
    "\n",
    "- Concurrency and Parallelism\n",
    "\n",
    "- Using Built-in Libraries\n",
    "\n",
    "\n",
    "\n",
    "# <center><b>Algorithmic Optimization</center></b>\n",
    "\n",
    "- Algorithmic optimization is the process of improving the efficiency of algorithms\n",
    "\n",
    "- It is used to reduce both the time complexity (execution time) and/or space complexity (memory usage())\n",
    "\n",
    "- Common Optimization Techniques\n",
    "\n",
    "    **Using Efficient Algorithms:** Choose algorithms with better time complexity.\n",
    "\n",
    "    **Avoiding Repeated Work:** Use techniques like memoization or dynamic programming.\n",
    "\n",
    "    **Reducing Unnecessary Operations:** Minimize the number of iterations, recursions, and function calls.\n",
    "\n",
    "    **Choosing Better Data Structures:** Some problems require specific data structures (eg.,heaps, hash maps, etc.) to be solved efficiently.\n",
    "\n",
    "\n",
    "\n",
    "# <center><b>Data Structure Selection for Performance Optimization</center></b>\n",
    "\n",
    "**Key Considerations in Data Structure Selection**\n",
    "\n",
    "- **Time Complexity:** Different data structures have different time complexities for operations like search, insert, delete, and update.\n",
    "\n",
    "- **Space Complexity:** Some data structures are more memory-efficient than others.\n",
    "\n",
    "- **Use Case:** The specific requirements of the problem will dictate which data structure is best suited. For example, if we need fast search operations, a hashmap (dictionary) might be the best choice.\n",
    "\n",
    "\n",
    "\n",
    "# <center><b>Code Profiling and Analysis</center></b>\n",
    "\n",
    "- **Code Profiling**\n",
    "\n",
    "    Code profiling refers to the process of measuring the performance of a program in terms of various metrics such as execution time, memory usage, and CPU usage\n",
    "\n",
    "    It helps to understand how the code performs under various conditions and identify whith parts of the code consume the most resources\n",
    "\n",
    "    It is important for Identifying Bottlenecks, Optimizing Performance, and improving efficiency\n",
    "\n",
    "- **Common Metrics in Profiling:**\n",
    "\n",
    "    Execution Time\n",
    "\n",
    "    Memory Usage\n",
    "\n",
    "    CPU Usage\n",
    "\n",
    "- **Tools for Profiling in Python**\n",
    "\n",
    "    **cProfile:** A built-in module for profiling Python programs\n",
    "\n",
    "    **timeit:** A simple way to time small code snippets\n",
    "\n",
    "    **memory_profiler:** Used for memory usage profiling\n",
    "\n",
    "    **line_profiler:** Provides line-by-line profiling for specific functions\n",
    "\n",
    "\n",
    "\n",
    "# <center><b>Use Built-in Libraries to Optimize the Performance</center></b>\n",
    "\n",
    "- Use **math module** for Faster Mathematical Operations\n",
    "\n",
    "- Use **collection module** for efficient data structures\n",
    "\n",
    "- Use **LRU Cache** for memoization\n",
    "\n",
    "- Use **itertools module** for efficient iteration operations like permutations, combinations\n",
    "\n",
    "\n",
    "\n",
    "# <center><b>Reference counting and Global Interpreter Lock (GIL)</center></b>\n",
    "\n",
    "- Reference counting is used to track how many references exist for each object in memory\n",
    "\n",
    "- The Python Global Interpreter Lock or **GIL** is a mutex (or a lock) that allows only one thread to hold the control of the Python interpreter.\n",
    "\n",
    "- It solved the problem of concurrent access to Python objects by multiple threads, preventing race conditions and data corruption in Python's dynamic memory management system.\n",
    "\n",
    "- By allowing only one thread to execute Python bytecode at a time, the GIL avoided the need for complex and error-prone locking mechanisms around every object access\n",
    "\n",
    "- However, it comes at the cost of limiting true parallelism in multi-threaded programs"
   ]
  },
  {
   "cell_type": "markdown",
   "metadata": {},
   "source": [
    "# Memoization/dynamic programming Example"
   ]
  },
  {
   "cell_type": "code",
   "execution_count": null,
   "metadata": {},
   "outputs": [
    {
     "name": "stdout",
     "output_type": "stream",
     "text": [
      "610\n"
     ]
    }
   ],
   "source": [
    "# define a Fibonacci Function\n",
    "def fib_recursive(n): # time complexity (0(2^n))\n",
    "    if n<=1:\n",
    "        return n\n",
    "    return fib_recursive(n-1) + fib_recursive(n-2)\n",
    "\n",
    "fib_15= fib_recursive(15)   # we can't use this function to get\n",
    "print(fib_15)"
   ]
  },
  {
   "cell_type": "code",
   "execution_count": null,
   "metadata": {},
   "outputs": [
    {
     "name": "stdout",
     "output_type": "stream",
     "text": [
      "4224696333392304878706725602341482782579852840250681098010280137314308584370130707224123599639141511088446087538909603607640194711643596029271983312598737326253555802606991585915229492453904998722256795316982874482472992263901833716778060607011615497886719879858311468870876264597369086722884023654422295243347964480139515349562972087652656069529806499841977448720155612802665404554171717881930324025204312082516817125\n"
     ]
    }
   ],
   "source": [
    "# define a Fibonacci Function\n",
    "memo= {0:0, 1:1}\n",
    "def fib_recursive(n): # time complexity (0(2^n))\n",
    "    if n in memo:\n",
    "        return memo[n]\n",
    "    if n<=1:\n",
    "        return n\n",
    "    fib_number= fib_recursive(n-1) + fib_recursive(n-2)\n",
    "    memo[n]= fib_number\n",
    "    return fib_number\n",
    "\n",
    "fib_2000= fib_recursive(2000)   # we can't use this function to get\n",
    "print(fib_2000)\n"
   ]
  },
  {
   "cell_type": "markdown",
   "metadata": {},
   "source": [
    "# Use Dict/Set (Hashmaps) to optimize the search"
   ]
  },
  {
   "cell_type": "code",
   "execution_count": null,
   "metadata": {},
   "outputs": [
    {
     "name": "stdout",
     "output_type": "stream",
     "text": [
      "False\n",
      "True\n"
     ]
    }
   ],
   "source": [
    "# Linear Search\n",
    "def linear_search(arr,target):\n",
    "    for i in range(len(arr)):\n",
    "        if arr[i]== target:\n",
    "            return True\n",
    "    return False\n",
    "arr=[2,9,1,6]\n",
    "print(linear_search(arr,5)) # check that 5 is in given array\n",
    "\n",
    "# Use Set to optimize the search 0(1)\n",
    "def optimized_search(arr,target):\n",
    "    hash_set= set(arr)\n",
    "    return target in hash_set\n",
    "\n",
    "arr= [5,2,9,1,5,6]\n",
    "print(optimized_search(arr,5))  #(0(1))\n"
   ]
  },
  {
   "cell_type": "markdown",
   "metadata": {},
   "source": [
    "# Data Structure Selection"
   ]
  },
  {
   "cell_type": "code",
   "execution_count": 8,
   "metadata": {},
   "outputs": [
    {
     "name": "stdout",
     "output_type": "stream",
     "text": [
      "[2, 3, 4]\n",
      "deque([2, 3, 4])\n"
     ]
    }
   ],
   "source": [
    "from collections import deque\n",
    "### Queue Implementation \n",
    "# Without optimization: Using list (O(n)) for dequeing\n",
    "queue = [1, 2, 3]\n",
    "queue.append(4)    #Enqueue (O(1))\n",
    "queue.pop(0)       #Dequeue(O(n))\n",
    "print(queue)\n",
    "# Optimized: Using deque(0(1))\n",
    "queue_deque= deque([1,2,3])\n",
    "queue_deque.append(4)    # Enqueue(0(1))\n",
    "queue_deque.popleft()    # Deque(0(1))\n",
    "print(queue_deque)"
   ]
  },
  {
   "cell_type": "markdown",
   "metadata": {},
   "source": [
    "# Use Built-In Libraries"
   ]
  },
  {
   "cell_type": "code",
   "execution_count": null,
   "metadata": {},
   "outputs": [
    {
     "name": "stdout",
     "output_type": "stream",
     "text": [
      "3628800\n"
     ]
    }
   ],
   "source": [
    "import math \n",
    "from collections import deque, Counter \n",
    "\n",
    "#Custom implementation\n",
    "def custom_sqrt(x):\n",
    "    return x ** 0.5\n",
    "\n",
    "# Optimized using math.sqrt()\n",
    "def optimized_sqrt(x):\n",
    "    return math.sqrt()\n",
    "\n",
    "# Custom factorial\n",
    "def custom_factorial(n):\n",
    "    result=1\n",
    "    for i in range(1, n + 1):\n",
    "        result *= i\n",
    "    return result\n",
    "\n",
    "def fact_recursive(n):\n",
    "    if n==0:\n",
    "        return 1\n",
    "    return n*fact_recursive(n-1)\n",
    "\n",
    "# Optimized using math.factorial()\n",
    "print(math.factorial(10))\n",
    "\n",
    "##Collection\n"
   ]
  },
  {
   "cell_type": "code",
   "execution_count": null,
   "metadata": {},
   "outputs": [
    {
     "name": "stdout",
     "output_type": "stream",
     "text": [
      "120\n",
      "factorial is correct\n"
     ]
    }
   ],
   "source": [
    "# Custom factorial\n",
    "def custom_factorial(n):\n",
    "    result=1\n",
    "    for i in range(1, n + 1):\n",
    "        result *= i\n",
    "    return result\n",
    "fact_5= custom_factorial(5) #Output:120\n",
    "print (fact_5)\n",
    "assert(fact_5== math.factorial(5))\n",
    "\n",
    "assert(fact_5!=10)\n",
    "\n",
    "if fact_5==120:\n",
    "    print(\"factorial is correct\")\n",
    "else:\n",
    "    print(\"Factorial is incorrect\")"
   ]
  },
  {
   "cell_type": "markdown",
   "metadata": {},
   "source": [
    "# Use functools.lru_cache for Memoization\n",
    "\n",
    "- LRU (least recently used)"
   ]
  },
  {
   "cell_type": "code",
   "execution_count": null,
   "metadata": {},
   "outputs": [
    {
     "name": "stdout",
     "output_type": "stream",
     "text": [
      "12586269025\n"
     ]
    }
   ],
   "source": [
    "from functools import lru_cache\n",
    "\n",
    "@lru_cache(maxsize=None)    #Cache all results\n",
    "def fibonacci(n):\n",
    "    if n<2:\n",
    "        return n\n",
    "    return fibonacci(n-1) + fibonacci(n-2)\n",
    "print(fibonacci(50))"
   ]
  },
  {
   "cell_type": "markdown",
   "metadata": {},
   "source": [
    "# <b>Debugging and Testing in Python</b>\n",
    "\n",
    "# <Center><b>Debugging in Python</Center></b>\n",
    "\n",
    "1. **What is Debugging?**\n",
    "\n",
    "    a. **Debugging is the process of** identifying, analyzing, and fixing issues of bugs in code.\n",
    "\n",
    "    b.It helps us understand why the code isn't working as expected.\n",
    "\n",
    "2. **Common Debugging Tools**\n",
    "\n",
    "    a.*print() statements:*\\\n",
    "        i. Simple but effective to trace the flow of execution and inspect variables\n",
    "\n",
    "    b. *Python Debugger (pdb)*\n",
    "\n",
    "    c. *IDEs and Debuggers*\\\n",
    "    i. Breakpoints, variable inspection, step-through execution\n",
    "\n",
    "    d.*breakpoint()*\n",
    "\n",
    "3. **Best Practices for Debugging**\n",
    "\n",
    "    a. Start with isolating the problem: Narrow down where the issue occurs\n",
    "\n",
    "    b. Use logging instead of print statements for more complex scenarios\n",
    "\n",
    "    c. Test small chunks of code in isolation (unit testing).\n",
    "\n",
    "# <Center><b>Testing in Python</Center></b>\n",
    "\n",
    "- Testing is a critical part of software development, and in Python, it's easy to set up and automate test.\n",
    "\n",
    "- Tests help us to make sure that the code behaves as expected, prevents regrestions, and improves code quality and maintainability\n",
    "\n",
    "- Python has various tools and libraries for testing, the most commonly used one is ***unittest*** module (part of the standard library) and ***pytest*** (a third-party testing framework)\n",
    "\n",
    "- **Importance of Testing**\n",
    "\n",
    "    - Catches Bugs Early\n",
    "\n",
    "    - Improves Code Quality\n",
    "\n",
    "    - Ensures Code Consistency\n",
    "\n",
    "    - Automation\n",
    "\n",
    "\n",
    "# <Center><b>Types of Testing in Python</Center></b>\n",
    "- Unit Testing: This is focused on testing individual components or units of code, i.e. functions or methods.\n",
    "- Integration testing: It ensures that different parts of the system work together as expected. For example, testing if the database interaction works properly with API.\n",
    "- Functional Testing: Testing the overall functionality of the software against the requirements it checks if the application performs tasks as expected from the user's perspective\n",
    "- End-to-End Testing(E2E): It tests the complete flow of the application, simulating real world scenarios, such as interacting with a user interface. Cypress, Selenium are few tools/libraries used for E2E\n",
    "- Regression Testing: Ensures that new code changes do not affect the existing functionality of the application\n",
    "\n",
    "# <Center><b>Unit Testing using Pytest</Center></b>\n",
    "\n",
    "- **Assertions:** Assertions are used in tests to verify the expected results\n",
    "\n",
    "- **Some common assertions in pytest include:**\n",
    "\n",
    "    assert result== expected_value Tests equality.\n",
    "\n",
    "    assert result!= unexpected_value Tests inequality\n",
    "\n",
    "    assert condition: Tests if the conditionis True\n",
    "\n",
    "    assert not condition: Tests if the condition is False\n",
    "\n",
    "    assert isinstonce (obj, expected_type): Tests if an object in an instance of a given class\n",
    "\n",
    "• Mocking: Mocking is used in testing to replace real objects with mock objects to isolate and test the behavior of the code in a controlled environment"
   ]
  },
  {
   "cell_type": "markdown",
   "metadata": {},
   "source": []
  }
 ],
 "metadata": {
  "kernelspec": {
   "display_name": "base",
   "language": "python",
   "name": "python3"
  },
  "language_info": {
   "codemirror_mode": {
    "name": "ipython",
    "version": 3
   },
   "file_extension": ".py",
   "mimetype": "text/x-python",
   "name": "python",
   "nbconvert_exporter": "python",
   "pygments_lexer": "ipython3",
   "version": "3.12.4"
  }
 },
 "nbformat": 4,
 "nbformat_minor": 2
}
