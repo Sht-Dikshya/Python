{
 "cells": [
  {
   "cell_type": "markdown",
   "metadata": {},
   "source": [
    "# Week 2 Question\n",
    "\n",
    "- Write a function Swap two numbers without using temporary variable\n",
    "- Write a function Determine if a string is a palindrome(palindrome is if we reverse it has same value)\n",
    "- Write a function to Count the number of vowels in a given string\n",
    "- Write a function to find common elements between two lists\n",
    "- write a function to Check if a given nu|mber is a perfect square\n",
    "- **write a function Count the occurrences of a specific character in a string**\n",
    "- Write a function to Find the second largest number in a list\n",
    "- Write a function to remove duplicates from a list\n",
    "- Write a function that prints the multiplication table of given number\n",
    "- Write a function to Check if a number is prime or not"
   ]
  },
  {
   "cell_type": "markdown",
   "metadata": {},
   "source": []
  }
 ],
 "metadata": {
  "language_info": {
   "name": "python"
  }
 },
 "nbformat": 4,
 "nbformat_minor": 2
}
