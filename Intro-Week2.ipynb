{
 "cells": [
  {
   "cell_type": "markdown",
   "metadata": {},
   "source": [
    "**<h2><center>Week 2 Assignment </center></h2>**\n",
    "<h4><center>Dikshya Shrestha</center></h4>\n",
    "<h4><center>Presidential Graduate School</center></h4>\n",
    "<h4><center>PRG 330: Python Programming</center></h4>\n",
    "<h4><center>Professor Tek Raj Pant </center></h4>\n",
    "<h4><center>January 18, 2025</center></h4>"
   ]
  },
  {
   "cell_type": "markdown",
   "metadata": {},
   "source": [
    "**<h2><center>Summary of Week 2 </center></h2>**\n",
    "\n",
    "This week focused on foundational programming concepts in Python and Object-Oriented Programming (OOP). Functions were introduced as reusable blocks of code that perform specific tasks. They improve modularity, readability, and code reuse. Functions can take input parameters, known as arguments, to customize their behavior. Default arguments provide predefined values, while named arguments enhance clarity by explicitly assigning values. Arbitrary arguments allow functions to accept multiple inputs using *args for positional arguments and **kwargs for keyword arguments. Functions also return values through the return statement, enabling them to produce results after execution.\n",
    "\n",
    "Lambda functions were discussed as small, single-expression functions designed for simple operations. They eliminate the need for a full function definition and are often used in scenarios where compact code is preferred. Exception handling was introduced to detect and recover from errors gracefully. The use of try and except blocks makes sure program can handle unexpected issues without crashing.\n",
    "\n",
    "Basic Object-oriented programming (OOP) concepts were also covered highlighting how programs can be structured using objects. Classes act as blueprints for creating objects which are instances with unique attributes. Encapsulation promotes data security by restricting access through public, private, and protected methods. Inheritance allows one class to adopt attributes and methods from another encouraging code reuse. Polymorphism enables functions to operate in different ways based on the input type or arguments further adding flexibility. These concepts provide the foundation for writing well structured, efficient, and secure code."
   ]
  },
  {
   "cell_type": "markdown",
   "metadata": {},
   "source": [
    "# From given two lists find out the common elements and create new list of common items"
   ]
  },
  {
   "cell_type": "code",
   "execution_count": 27,
   "metadata": {},
   "outputs": [
    {
     "name": "stdout",
     "output_type": "stream",
     "text": [
      "[3, 4, 5]\n",
      "[3, 4, 5]\n",
      "By inline method: [3, 4, 5]\n"
     ]
    }
   ],
   "source": [
    "list_1= [1,2,3,4,5,6,10]\n",
    "list_2= [3,4,5,9]\n",
    "\n",
    "common_list= []\n",
    "for i in list_1:\n",
    "    if i in list_2:\n",
    "        common_list.append(i)\n",
    "print(common_list)\n",
    "\n",
    "common_list = []\n",
    "for i in list_1:\n",
    "    for j in list_2:\n",
    "        if i==j:\n",
    "            common_list.append(i)\n",
    "print (common_list)\n",
    "\n",
    "#inline\n",
    "common_list= [i for i in list_1 if i in list_2]\n",
    "print (\"By inline method:\",common_list)"
   ]
  },
  {
   "cell_type": "markdown",
   "metadata": {},
   "source": [
    "# Function\n",
    "\n",
    "- In python, functions are reuseable blocks of code that perform a specific task.\n",
    "- They provide a way to modulize code, improve readability, and promote code reuse.\n",
    "- Functions can take input parameters (argument), perform operations, and optionally return a result.\n",
    "\n",
    "Define a Function\n"
   ]
  },
  {
   "cell_type": "code",
   "execution_count": 25,
   "metadata": {},
   "outputs": [],
   "source": [
    "#Syntax\n",
    "def function_name(parameter):\n",
    "    #Block of code\n",
    "    return expression"
   ]
  },
  {
   "cell_type": "code",
   "execution_count": 26,
   "metadata": {},
   "outputs": [
    {
     "name": "stdout",
     "output_type": "stream",
     "text": [
      "3\n",
      "-1\n",
      "12\n"
     ]
    },
    {
     "ename": "ZeroDivisionError",
     "evalue": "division by zero",
     "output_type": "error",
     "traceback": [
      "\u001b[1;31m---------------------------------------------------------------------------\u001b[0m",
      "\u001b[1;31mZeroDivisionError\u001b[0m                         Traceback (most recent call last)",
      "Cell \u001b[1;32mIn[26], line 23\u001b[0m\n\u001b[0;32m     20\u001b[0m calculator (\u001b[38;5;241m6\u001b[39m,\u001b[38;5;124m'\u001b[39m\u001b[38;5;124m*\u001b[39m\u001b[38;5;124m'\u001b[39m,\u001b[38;5;241m2\u001b[39m)\n\u001b[0;32m     22\u001b[0m \u001b[38;5;66;03m#Divide\u001b[39;00m\n\u001b[1;32m---> 23\u001b[0m calculator (\u001b[38;5;241m4\u001b[39m,\u001b[38;5;124m\"\u001b[39m\u001b[38;5;124m/\u001b[39m\u001b[38;5;124m\"\u001b[39m,\u001b[38;5;241m0\u001b[39m)\n",
      "Cell \u001b[1;32mIn[26], line 9\u001b[0m, in \u001b[0;36mcalculator\u001b[1;34m(input1, operation, input2)\u001b[0m\n\u001b[0;32m      7\u001b[0m     \u001b[38;5;28mprint\u001b[39m(input1\u001b[38;5;241m*\u001b[39minput2)\n\u001b[0;32m      8\u001b[0m \u001b[38;5;28;01melif\u001b[39;00m operation\u001b[38;5;241m==\u001b[39m\u001b[38;5;124m'\u001b[39m\u001b[38;5;124m/\u001b[39m\u001b[38;5;124m'\u001b[39m:\n\u001b[1;32m----> 9\u001b[0m     \u001b[38;5;28mprint\u001b[39m(input1\u001b[38;5;241m/\u001b[39minput2)\n\u001b[0;32m     10\u001b[0m \u001b[38;5;28;01melse\u001b[39;00m:\n\u001b[0;32m     11\u001b[0m     \u001b[38;5;28mprint\u001b[39m(\u001b[38;5;124m'\u001b[39m\u001b[38;5;124minvalid operation\u001b[39m\u001b[38;5;124m'\u001b[39m)\n",
      "\u001b[1;31mZeroDivisionError\u001b[0m: division by zero"
     ]
    }
   ],
   "source": [
    "def calculator(input1, operation, input2):\n",
    "    if operation=='+':\n",
    "        print (input1+input2)\n",
    "    elif operation=='-':\n",
    "        print(input1-input2)\n",
    "    elif operation=='*':\n",
    "        print(input1*input2)\n",
    "    elif operation=='/':\n",
    "        print(input1/input2)\n",
    "    else:\n",
    "        print('invalid operation')\n",
    "\n",
    "#Sum\n",
    "calculator (1,'+', 2)\n",
    "\n",
    "#subtraction\n",
    "calculator (1,'-',2)\n",
    "\n",
    "#Product\n",
    "calculator (6,'*',2)\n",
    "\n",
    "#Divide\n",
    "calculator (4,\"/\",0)\n"
   ]
  },
  {
   "cell_type": "code",
   "execution_count": 10,
   "metadata": {},
   "outputs": [
    {
     "name": "stdout",
     "output_type": "stream",
     "text": [
      "3\n",
      "-1\n",
      "12\n",
      "Denominator can't be zero\n"
     ]
    }
   ],
   "source": [
    "def calculator(input1, operation, input2):\n",
    "    if operation=='+':\n",
    "        print (input1+input2)\n",
    "    elif operation=='-':\n",
    "        print(input1-input2)\n",
    "    elif operation=='*':\n",
    "        print(input1*input2)\n",
    "    elif operation=='/':\n",
    "        if input2==0:\n",
    "            print (\"Denominator can't be zero\")\n",
    "        else:\n",
    "            print(input1/input2)\n",
    "    else:\n",
    "        print('invalid operation')\n",
    "\n",
    "\n",
    "#use calculator function (function call)\n",
    "#Sum\n",
    "calculator (1,'+', 2)\n",
    "\n",
    "#subtraction\n",
    "calculator (1,'-',2)\n",
    "\n",
    "#Product\n",
    "calculator (6,'*',2)\n",
    "\n",
    "#Divide\n",
    "calculator (4,\"/\",0)"
   ]
  },
  {
   "cell_type": "markdown",
   "metadata": {},
   "source": [
    "### Define a function to calculate the sine of given angle\n",
    "    i.e.sin(pi/4), sin(pi/6)"
   ]
  },
  {
   "cell_type": "code",
   "execution_count": 12,
   "metadata": {},
   "outputs": [
    {
     "ename": "IndentationError",
     "evalue": "expected an indented block after function definition on line 1 (774571897.py, line 3)",
     "output_type": "error",
     "traceback": [
      "\u001b[1;36m  Cell \u001b[1;32mIn[12], line 3\u001b[1;36m\u001b[0m\n\u001b[1;33m    def factorial(n):\u001b[0m\n\u001b[1;37m    ^\u001b[0m\n\u001b[1;31mIndentationError\u001b[0m\u001b[1;31m:\u001b[0m expected an indented block after function definition on line 1\n"
     ]
    }
   ],
   "source": [
    "def sine(angle):\n",
    "    #print the value of sine(angle)\n",
    "    def factorial(n):\n",
    "        result= 1\n",
    "        for i in range(1, n+1):\n",
    "            result *=1\n",
    "        return result\n",
    "    \n",
    "    def sine(x, terms=10):\n",
    "        \"\"\"Calculate sine of x using Taylor series expansion.\n",
    "        sin(x)= x- (x^3/3!)+ (x^5/5)-......\n",
    "        term(n)= (-1^n)* x ^ (2n+1)/ (2n+1)!\n",
    "        \"\"\"\n",
    "        sine_sum= 0\n",
    "        for n in range(0,terms):\n",
    "            sign = (-1)**n\n",
    "            sine_sum += sign * (x** (2*n+1)/ factorial (2* n+1))\n",
    "        return sine_sum\n",
    "    \n",
    "    def cosine(x, terms=10):\n",
    "        \"\"\"Calculate cosine of x using Taylor series expansion.\n",
    "        \"\"\"\n"
   ]
  },
  {
   "cell_type": "markdown",
   "metadata": {},
   "source": [
    "# Calling a function"
   ]
  },
  {
   "cell_type": "markdown",
   "metadata": {},
   "source": [
    "# Default Argument\n",
    "\n",
    "- We can specify default values for function parameters.\n",
    "- If no value is provided for the default parameter, the default value is used."
   ]
  },
  {
   "cell_type": "markdown",
   "metadata": {},
   "source": []
  },
  {
   "cell_type": "code",
   "execution_count": 3,
   "metadata": {},
   "outputs": [
    {
     "name": "stdout",
     "output_type": "stream",
     "text": [
      "15\n",
      "In-active\n"
     ]
    }
   ],
   "source": [
    "def add(x=5, y=6):\n",
    "    print(x+y)\n",
    "add (7,8)\n",
    "\n",
    "def is_active(status=False):\n",
    "    if status==True:\n",
    "        print('Its Active')\n",
    "    else:\n",
    "        print('In-active')\n",
    "is_active()\n"
   ]
  },
  {
   "cell_type": "markdown",
   "metadata": {},
   "source": [
    "# Named Argument"
   ]
  },
  {
   "cell_type": "code",
   "execution_count": 5,
   "metadata": {},
   "outputs": [
    {
     "name": "stdout",
     "output_type": "stream",
     "text": [
      "15\n",
      "In-active\n"
     ]
    }
   ],
   "source": [
    "def add(x=5, y=6, z=9):\n",
    "    print(x+y+z)\n",
    "    \n",
    "add (x=5,y=10, z=11)\n",
    "\n",
    "\n",
    "def is_active(status=False):\n",
    "    if status==True:\n",
    "        print('Its Active')\n",
    "    else:\n",
    "        print('In-active')\n",
    "is_active()\n"
   ]
  },
  {
   "cell_type": "markdown",
   "metadata": {},
   "source": [
    "# Arbitrary Arguments:\n",
    "\n",
    "- Functions can accept a variable number of arguments using *args or **kwargs (keyword argument)\n",
    "- *args is used to pass a variable number of positional argument, while **kwargs is used to pass a variable number of keyword arguments."
   ]
  },
  {
   "cell_type": "code",
   "execution_count": 6,
   "metadata": {},
   "outputs": [
    {
     "name": "stdout",
     "output_type": "stream",
     "text": [
      "1 2\n",
      "(3, 4, 5, 6)\n",
      "None\n"
     ]
    }
   ],
   "source": [
    "def add(a,b,*args):\n",
    "    print (a,b)\n",
    "    print (args)\n",
    "\n",
    "a= add(1,2,3,4,5,6)\n",
    "print(a)"
   ]
  },
  {
   "cell_type": "markdown",
   "metadata": {},
   "source": [
    "# Return Statement:\n",
    "\n",
    "- Functions can return a value using the return statement.\n",
    "- If no return statement is provided, the function returns None by default."
   ]
  },
  {
   "cell_type": "code",
   "execution_count": 22,
   "metadata": {},
   "outputs": [
    {
     "name": "stdout",
     "output_type": "stream",
     "text": [
      "Even number\n",
      "Number is even.\n",
      "Denominator can't be zero.\n",
      "None\n"
     ]
    }
   ],
   "source": [
    "# print even\n",
    "\n",
    "def is_even_number(number):\n",
    "    if number %2==0:\n",
    "        print('Even number')\n",
    "        return 'Number is even.'\n",
    "    \n",
    "    print ('Odd number')\n",
    "    return 'Number is odd.'\n",
    "\n",
    "check_number = is_even_number(4)\n",
    "print (check_number)\n",
    "\n",
    "def divide(x,y):\n",
    "    if y==0:\n",
    "        print (\"Denominator can't be zero.\")\n",
    "        return None\n",
    "    return x/y\n",
    "\n",
    "result = divide(19,0)\n",
    "print(result)"
   ]
  },
  {
   "cell_type": "code",
   "execution_count": 40,
   "metadata": {},
   "outputs": [
    {
     "name": "stdout",
     "output_type": "stream",
     "text": [
      "Odd number\n",
      "Number is odd.\n",
      "5.0\n"
     ]
    }
   ],
   "source": [
    "# Print odd\n",
    "\n",
    "def is_odd_number(number):\n",
    "    if number %2==1:\n",
    "        print('Odd number')\n",
    "        return 'Number is odd.'\n",
    "    \n",
    "    print ('Even number')\n",
    "    return 'Number is even.'\n",
    "\n",
    "check_number = is_odd_number(5)\n",
    "print (check_number)\n",
    "\n",
    "def divide(x,y):\n",
    "    if y==0:\n",
    "        print (\"Denominator can't be zero.\")\n",
    "        return None\n",
    "    return x/y\n",
    "\n",
    "result = divide(15,3)\n",
    "print(result)"
   ]
  },
  {
   "cell_type": "markdown",
   "metadata": {},
   "source": [
    "# Lambda Function\n",
    "\n",
    "- Lambda functions, also known as anonymous functions, are small, single-expression functions defined using the lambda keyword.\n",
    "- They are often used for short, simple operations."
   ]
  },
  {
   "cell_type": "code",
   "execution_count": 38,
   "metadata": {},
   "outputs": [
    {
     "name": "stdout",
     "output_type": "stream",
     "text": [
      "25\n",
      "5.0\n",
      "8\n"
     ]
    }
   ],
   "source": [
    "square = lambda x: x**2\n",
    "def square (x):\n",
    "    return x**2\n",
    "square_root = lambda x : x**(1/2)\n",
    "cube = lambda n: n**3\n",
    "print(square(5))  \n",
    "print(square_root(25))\n",
    "print (cube(2))\n"
   ]
  },
  {
   "cell_type": "markdown",
   "metadata": {},
   "source": [
    "# Exceptional Handling\n",
    "\n",
    "It allows us to detect, handle, and recover from unexpected situations without crashing the program.\n",
    "Python provides a structured way to handle exceptions using \n",
    "\n",
    "- try\n",
    "- except\n",
    "- else\n",
    "- finally"
   ]
  },
  {
   "cell_type": "code",
   "execution_count": 39,
   "metadata": {},
   "outputs": [
    {
     "name": "stdout",
     "output_type": "stream",
     "text": [
      "Error: DIvision by zero is not allowed.\n",
      "None\n"
     ]
    }
   ],
   "source": [
    "def divide_numbers(x,y):\n",
    "    try:\n",
    "        result= x/y\n",
    "        return result\n",
    "    except ZeroDivisionError:\n",
    "        print(\"Error: DIvision by zero is not allowed.\")\n",
    "        return None\n",
    "    \n",
    "result= divide_numbers(1,0)\n",
    "print (result)"
   ]
  },
  {
   "cell_type": "markdown",
   "metadata": {},
   "source": [
    "<h1><center><b><u>Practice Question</b></u></center></h1>\n",
    "\n",
    "- Write a function Swap two numbers without using temporary variable"
   ]
  },
  {
   "cell_type": "code",
   "execution_count": 45,
   "metadata": {},
   "outputs": [
    {
     "name": "stdout",
     "output_type": "stream",
     "text": [
      "(6, 5)\n"
     ]
    }
   ],
   "source": [
    "def swap(a,b):\n",
    "    a= a+b\n",
    "    b= a-b\n",
    "    a= a-b\n",
    "    return a, b  # Return the numbers in swapped order\n",
    "result= swap(5,6)\n",
    "print(result)         # a,b= swap(a=5,b=10)"
   ]
  },
  {
   "cell_type": "markdown",
   "metadata": {},
   "source": [
    "- Write a function Determine if a string is a palindrome(palindrome is if we reverse it has same value)"
   ]
  },
  {
   "cell_type": "code",
   "execution_count": 11,
   "metadata": {},
   "outputs": [
    {
     "name": "stdout",
     "output_type": "stream",
     "text": [
      "It is a palindrome\n"
     ]
    }
   ],
   "source": [
    "\n",
    "def isPalindrome(s):\n",
    "\n",
    "    # Using predefined function to\n",
    "    # reverse to string print(s)\n",
    "    rev = ''.join(reversed(s))\n",
    "\n",
    "    # Checking if both string are\n",
    "    # equal or not\n",
    "    if (s == rev):\n",
    "        return True\n",
    "    return False\n",
    "\n",
    "# main function\n",
    "s = \"radar\"\n",
    "ans = isPalindrome(s)\n",
    "\n",
    "if (ans):\n",
    "    print(\"It is a palindrome\")\n",
    "else:\n",
    "    print(\"It is not a palindrome\")"
   ]
  },
  {
   "cell_type": "code",
   "execution_count": 12,
   "metadata": {},
   "outputs": [
    {
     "name": "stdout",
     "output_type": "stream",
     "text": [
      "[5, 4, 3, 2, 1]\n",
      "['l', 'a', 'L']\n"
     ]
    }
   ],
   "source": [
    "# reverse\n",
    "def reverse_list(a):\n",
    "    i = len(a)-1\n",
    "    reversed_list = []\n",
    "    while i>=0:\n",
    "        reversed_list.append(a[i])\n",
    "        i-=1\n",
    "    return reversed_list\n",
    "print(reverse_list([1, 2, 3, 4, 5]))\n",
    "\n",
    "# reverse\n",
    "def reverse_list(a):\n",
    "    i = len(a)-1\n",
    "    reversed_list = []\n",
    "    while i>=0:\n",
    "        reversed_list.append(a[i])\n",
    "        i-=1\n",
    "    return reversed_list\n",
    "print(reverse_list('Lal'))"
   ]
  },
  {
   "cell_type": "markdown",
   "metadata": {},
   "source": [
    "- Write a function to Count the number of vowels in a given string\n"
   ]
  },
  {
   "cell_type": "code",
   "execution_count": 13,
   "metadata": {},
   "outputs": [
    {
     "name": "stdout",
     "output_type": "stream",
     "text": [
      "Number of vowels : 6\n"
     ]
    }
   ],
   "source": [
    "def vowel_count(str):\n",
    "     \n",
    "    count = 0\n",
    "     \n",
    "    vowel = set(\"aeiouAEIOU\")\n",
    "   \n",
    "    for alphabet in str:\n",
    "     \n",
    "        if alphabet in vowel:\n",
    "            count = count + 1\n",
    "     \n",
    "    print(\"Number of vowels :\", count)\n",
    "     \n",
    "# Driver code\n",
    "str = \"aeiouACB\"\n",
    " \n",
    "# Function Call\n",
    "vowel_count(str)"
   ]
  },
  {
   "cell_type": "markdown",
   "metadata": {},
   "source": [
    "- Write a function to find common elements between two lists"
   ]
  },
  {
   "cell_type": "code",
   "execution_count": 14,
   "metadata": {},
   "outputs": [
    {
     "name": "stdout",
     "output_type": "stream",
     "text": [
      "Common elements are:  [2, 3, 4, 5]\n"
     ]
    }
   ],
   "source": [
    "a = [1, 2, 3, 4, 5]\n",
    "b = [2, 3, 4, 5, 6, 7, 8]\n",
    "\n",
    "# Find common elements using nested loops\n",
    "common = []\n",
    "for x in a:\n",
    "    if x in b:\n",
    "        common.append(x)\n",
    "\n",
    "print(\"Common elements are: \",common)"
   ]
  },
  {
   "cell_type": "markdown",
   "metadata": {},
   "source": [
    "- write a function to Check if a given number is a perfect square\n"
   ]
  },
  {
   "cell_type": "code",
   "execution_count": 15,
   "metadata": {},
   "outputs": [
    {
     "name": "stdout",
     "output_type": "stream",
     "text": [
      "9 is a perfect square\n"
     ]
    }
   ],
   "source": [
    "def perfect_square(x):\n",
    "    if x >= 0:\n",
    "        squ = int(x ** 0.5)\n",
    "        return (squ * squ == x)\n",
    "   \n",
    "    return False\n",
    "\n",
    "x = 9\n",
    "if perfect_square(x):\n",
    "    print(x,\"is a perfect square\")\n",
    "else:\n",
    "    print(x, \"is not a perfect square\")"
   ]
  },
  {
   "cell_type": "markdown",
   "metadata": {},
   "source": [
    "- Write a function to Find the second largest number in a list\n"
   ]
  },
  {
   "cell_type": "code",
   "execution_count": 16,
   "metadata": {},
   "outputs": [
    {
     "name": "stdout",
     "output_type": "stream",
     "text": [
      "Max number is: 100\n",
      "Second max number is: 95\n"
     ]
    }
   ],
   "source": [
    "numbers= [3,5,1,2,100,95]\n",
    "max_number= numbers[0]\n",
    "second_max_number= numbers[0]\n",
    "\n",
    "for n in numbers:\n",
    "    if n>max_number:\n",
    "        max_number=n\n",
    "    elif n>second_max_number and n != max_number:\n",
    "        second_max_number=n\n",
    "print(\"Max number is:\", max_number)\n",
    "print(\"Second max number is:\", second_max_number)"
   ]
  },
  {
   "cell_type": "markdown",
   "metadata": {},
   "source": [
    "- Write a function that prints the multiplication table of given number\n"
   ]
  },
  {
   "cell_type": "code",
   "execution_count": 27,
   "metadata": {},
   "outputs": [
    {
     "name": "stdout",
     "output_type": "stream",
     "text": [
      "9*1= 9\n",
      "9*2= 18\n",
      "9*3= 27\n",
      "9*4= 36\n",
      "9*5= 45\n",
      "9*6= 54\n",
      "9*7= 63\n",
      "9*8= 72\n",
      "9*9= 81\n",
      "9*10= 90\n"
     ]
    }
   ],
   "source": [
    "def multiplication_table(n):\n",
    "    for i in range(1,11):\n",
    "        result= i*n\n",
    "        print(f\"{n}*{i}= {result}\")\n",
    "\n",
    "multiplication_table(9)\n"
   ]
  },
  {
   "cell_type": "markdown",
   "metadata": {},
   "source": [
    "- Write a function to Check if a number is prime or not"
   ]
  },
  {
   "cell_type": "code",
   "execution_count": 19,
   "metadata": {},
   "outputs": [
    {
     "name": "stdout",
     "output_type": "stream",
     "text": [
      "It is a prime number = False\n",
      "It is a prime number = True\n"
     ]
    }
   ],
   "source": [
    "def is_prime_division(n):\n",
    "\n",
    "    if n <= 1:\n",
    "        return False\n",
    "\n",
    "    for i in range(2, int(n**0.5) + 1):\n",
    "\n",
    "        if n % i == 0:\n",
    "            return False\n",
    "\n",
    "    return True\n",
    "\n",
    "\n",
    "# Test the function with n = 9\n",
    "print(\"It is a prime number =\",is_prime_division(9))\n",
    "print(\"It is a prime number =\",is_prime_division(7))"
   ]
  },
  {
   "cell_type": "markdown",
   "metadata": {},
   "source": [
    "# **Object Oriented Programming**\n",
    "\n",
    "- OOP is a method of structuring a program by bundling related properties and behaviors into individual objects."
   ]
  },
  {
   "cell_type": "markdown",
   "metadata": {},
   "source": [
    "# *Basic Concepts of OOP*\n",
    "\n",
    "- <b><u>Class</u>:</b> In OOP class in blueprints from which the objects are created\n",
    "- <b><u>Object</u>:</b> An instance of a class. Objects are created from classes and can hold different values for the attributes defined in the class.\n",
    "- <b><u>Encapsulation</u>:</b> It helps restrict access to some components, promoting data hiding.  {For security}\n",
    "    - *Methods of encapsulation*\n",
    "        - Public\n",
    "        - Private\n",
    "        - Protected\n",
    "- <b><u>Inheritance</u>:</b> A mechanism where one class can inherit attributes and methods from another class. This promotes code reuse and estabilishes a hierarchical relationship.\n",
    "- <b><u>Polymorphism</u>:</b> This means the same function name is being used for different types. Each function is differentiated based on its data type and number of arguments. So each function has a different signature.\n"
   ]
  },
  {
   "cell_type": "markdown",
   "metadata": {},
   "source": [
    "# Create Class"
   ]
  },
  {
   "cell_type": "code",
   "execution_count": 20,
   "metadata": {},
   "outputs": [],
   "source": [
    "# empty class\n",
    "class Car:\n",
    "    pass\n",
    "\n",
    "# Creating a Class\n",
    "class Employee:\n",
    "    def __init__(self, name, age):\n",
    "        self.name= name   # attribute\n",
    "        self.age= age   #attributes\n",
    "\n",
    "    def personal_info(self):      #method\n",
    "        print(f\"Employee Name: {self.name}\\nAge: {self.age}\")"
   ]
  },
  {
   "cell_type": "code",
   "execution_count": 21,
   "metadata": {},
   "outputs": [],
   "source": [
    "# Creating objects of class Employee\n",
    "employee_1= Employee(\"Dikshya\", 21)\n",
    "employee_2= Employee(\"Smriti\", 20)"
   ]
  },
  {
   "cell_type": "code",
   "execution_count": 22,
   "metadata": {},
   "outputs": [
    {
     "name": "stdout",
     "output_type": "stream",
     "text": [
      "Age is: 21\n"
     ]
    }
   ],
   "source": [
    "# encapsulation\n",
    "class Person:\n",
    "    age= 21;   # public\n",
    "    _address= 'Kathmandu'   #protected\n",
    "    _bank_account= '4324lk-324kl'  #private\n",
    "    def __init__(self):  # constructor\n",
    "        pass\n",
    "    \n",
    "\n",
    "    def __getAccountNumber (self):  #private\n",
    "        return self.__bank_account\n",
    "    \n",
    "    def _getAddress(self):  #protected\n",
    "        return self._address\n",
    "\n",
    "    def getAge(self):   #public\n",
    "        return self.age\n",
    "    \n",
    "person = Person()\n",
    "age = person.getAge()\n",
    "print(\"Age is:\",age)"
   ]
  },
  {
   "cell_type": "code",
   "execution_count": 23,
   "metadata": {},
   "outputs": [
    {
     "name": "stdout",
     "output_type": "stream",
     "text": [
      "Kathmandu\n"
     ]
    }
   ],
   "source": [
    "# Inheritance\n",
    "class Student(Person):\n",
    "    def __init__(self):\n",
    "        super().__init__()\n",
    "\n",
    "    def depositFee(self):\n",
    "        print (self._getAddress())\n",
    "\n",
    "    def getAge(self): #polymorphism\n",
    "        return self.age\n",
    "\n",
    "student = Student()\n",
    "student.depositFee()"
   ]
  },
  {
   "cell_type": "markdown",
   "metadata": {},
   "source": [
    "# Operation using Pandas"
   ]
  },
  {
   "cell_type": "code",
   "execution_count": 2,
   "metadata": {},
   "outputs": [
    {
     "name": "stdout",
     "output_type": "stream",
     "text": [
      "Series Output:\n",
      " 0    1\n",
      "1    2\n",
      "2    3\n",
      "3    4\n",
      "dtype: int64\n",
      "\n",
      "DataFrame Output:\n",
      "       Name  Age    Address\n",
      "0      Ram   24  Kathmandu\n",
      "1     Hari   30  Bhaktapur\n",
      "2   Smriti   21  Bhaktapur\n",
      "3  Dikshya   22      Thimi\n",
      "4    Roman   23  Balkumari\n"
     ]
    }
   ],
   "source": [
    "import pandas as pd\n",
    "\n",
    "# Create a new series\n",
    "numbers = pd.Series([1, 2, 3, 4])\n",
    "print(\"Series Output:\\n\", numbers)\n",
    "\n",
    "# Create a new data frame\n",
    "user_data = pd.DataFrame({\n",
    "    'Name': ['Ram', 'Hari','Smriti', 'Dikshya', 'Roman'],\n",
    "    'Age': [24, 30, 21, 22, 23],\n",
    "    'Address': ['Kathmandu', 'Bhaktapur', 'Bhaktapur', 'Thimi','Balkumari']\n",
    "})\n",
    "print(\"\\nDataFrame Output:\\n\", user_data)"
   ]
  },
  {
   "cell_type": "code",
   "execution_count": null,
   "metadata": {},
   "outputs": [],
   "source": []
  }
 ],
 "metadata": {
  "kernelspec": {
   "display_name": "base",
   "language": "python",
   "name": "python3"
  },
  "language_info": {
   "codemirror_mode": {
    "name": "ipython",
    "version": 3
   },
   "file_extension": ".py",
   "mimetype": "text/x-python",
   "name": "python",
   "nbconvert_exporter": "python",
   "pygments_lexer": "ipython3",
   "version": "3.12.4"
  }
 },
 "nbformat": 4,
 "nbformat_minor": 2
}
