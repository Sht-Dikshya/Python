{
 "cells": [
  {
   "cell_type": "markdown",
   "metadata": {},
   "source": [
    "**<h2><center>Week 1 - Assignment </center></h2>**\n",
    "<h4><center>Dikshya Shrestha</center></h4>\n",
    "<h4><center>Presidential Graduate School</center></h4>\n",
    "<h4><center>PRG 330: Python Programming</center></h4>\n",
    "<h4><center>Professor Tek Raj Pant </center></h4>\n",
    "<h4><center>January 11, 2025</center></h4>"
   ]
  },
  {
   "cell_type": "markdown",
   "metadata": {},
   "source": [
    "# **Introduction to Python: Printing 'Hello, World!' in different ways**"
   ]
  },
  {
   "cell_type": "code",
   "execution_count": 1,
   "metadata": {},
   "outputs": [
    {
     "name": "stdout",
     "output_type": "stream",
     "text": [
      "Printing directly: Hello, World!\n",
      "Use of string variable:  Hello, World!\n",
      "Length of the message: 13\n",
      "First character: H\n",
      "Last character: !\n",
      "FIrst name using substring: Hello\n",
      "Combined message: Hello, World! Have a great day!\n",
      "Lowercase: hello, world!\n",
      "Uppercase: HELLO, WORLD!\n",
      "Capitalize: Hello, world!\n",
      "Paragraph: Hello, World!\n",
      "This is a simple Python program.\n",
      "Jupyter Notebook makes it easy to run Python code.\n",
      "Short form of Hello Wonderful World is: HWW\n"
     ]
    }
   ],
   "source": [
    "# Print \"Hello, World!\" directly\n",
    "print(\"Printing directly:\", \"Hello, World!\")  # Directly output the message\n",
    "\n",
    "# Using a string variable to store and print \"Hello, World!\"\n",
    "message = \"Hello, World!\"\n",
    "print(\"Use of string variable: \",message)  # Print the message stored in the variable\n",
    "\n",
    "# Length of the string\n",
    "message_length = len(message)  # Get the total number of characters\n",
    "print(\"Length of the message:\", message_length)\n",
    "\n",
    "# Accessing individual characters\n",
    "first_char = message[0]  # First character\n",
    "last_char = message[-1]  # Last character\n",
    "print(\"First character:\", first_char)\n",
    "print(\"Last character:\", last_char)\n",
    "\n",
    "# Substring (e.g., extract \"Hello\")\n",
    "first_name = message[0:5]  # Get characters from index 0 to 4\n",
    "print(\"FIrst name using substring:\", first_name)\n",
    "\n",
    "# String concatenation\n",
    "anything = \" Have a great day!\"\n",
    "concatenation = message + anything  # Combine two strings\n",
    "print(\"Combined message:\", concatenation)\n",
    "\n",
    "# String methods\n",
    "print(\"Lowercase:\", message.lower())  # Convert to lowercase\n",
    "print(\"Uppercase:\", message.upper())  # Convert to uppercase\n",
    "print(\"Capitalize:\", message.capitalize())  # Capitalize the first letter\n",
    "\n",
    "# Multi-line string (paragraph)\n",
    "paragraph = \"\"\"Hello, World!\n",
    "This is a simple Python program.\n",
    "Jupyter Notebook makes it easy to run Python code.\"\"\"\n",
    "print(\"Paragraph:\", paragraph)\n",
    "\n",
    "# Short form creation\n",
    "greeting = \"Hello Wonderful World\"\n",
    "short_form = greeting[0] + greeting[6] + greeting[16]  # First letters of each word\n",
    "print(\"Short form of Hello Wonderful World is:\", short_form)\n"
   ]
  },
  {
   "cell_type": "markdown",
   "metadata": {},
   "source": [
    "**<h2><center>Summary of Week 1 </center></h2>**\n",
    "\n",
    "Python is one of the most beginner-friendly programming languages. In this week, several basic Python programming topics were covered.\n",
    "\n",
    "Python data types were introduced, including numbers, strings, booleans, and the None type. Numbers included int for whole numbers, \n",
    "float for decimals, and complex for numbers with real and imaginary parts. Strings were explained with operations like finding length, \n",
    "extracting substrings, and joining strings. Multiline strings and creating short forms were also discussed. Booleans were used to \n",
    "represent True and False values. The None type was explained as representing the absence of a value.\n",
    "\n",
    "Composite data types were discussed in detail. Lists were explained as ordered collections where elements can be added or removed. \n",
    "Dictionaries were introduced for storing data in key-value pairs. Tuples were discussed as fixed collections that cannot be changed. \n",
    "Sets were explained as collections with unique elements, useful for operations like union and intersection. The range function was \n",
    "used to create sequences of numbers.\n",
    "\n",
    "Control structures were also discussed. Conditional statements like if, if-else, and if-elif-else were explained for decision-making \n",
    "in programs. Nested if statements and ternary operators were introduced for compact conditions. Loops, including for and while, were \n",
    "explained for repeating tasks.\n",
    "\n",
    "These topics provide a strong foundation for writing Python programs and solving problems effectively.\n",
    "\n"
   ]
  },
  {
   "cell_type": "markdown",
   "metadata": {},
   "source": [
    "# **Python Data Types**\n",
    "\n",
    "- Number\n",
    "    - int\n",
    "    - float\n",
    "    - complex\n",
    "- String\n",
    "- Boolean\n",
    "- None"
   ]
  },
  {
   "cell_type": "markdown",
   "metadata": {},
   "source": [
    "# *Numbers*"
   ]
  },
  {
   "cell_type": "code",
   "execution_count": 4,
   "metadata": {},
   "outputs": [
    {
     "name": "stdout",
     "output_type": "stream",
     "text": [
      "Age:  40\n"
     ]
    }
   ],
   "source": [
    "# int data type\n",
    "age: int = 40\n",
    "# float\n",
    "distance: float = 4.13\n",
    "# complex\n",
    "complex_number: complex = 4j\n",
    "print(\"Age: \", age)"
   ]
  },
  {
   "cell_type": "markdown",
   "metadata": {},
   "source": [
    "# *Arithemetic Operations*"
   ]
  },
  {
   "cell_type": "code",
   "execution_count": 5,
   "metadata": {},
   "outputs": [
    {
     "name": "stdout",
     "output_type": "stream",
     "text": [
      "Sum:  15\n",
      "Difference: -5\n",
      "Product: 50\n",
      "Division: 0.5\n",
      "Div: 0\n",
      "Remainder: 5\n"
     ]
    }
   ],
   "source": [
    "a = 5\n",
    "b = 10\n",
    "# addition\n",
    "sum_of_ab = a+b\n",
    "# substrction\n",
    "diff_of_ab = a-b\n",
    "# multiplication\n",
    "product_of_ab = a*b\n",
    "# division\n",
    "div_of_ab = a/b\n",
    "div_of_ab_floor = a//b\n",
    "# modulous operator\n",
    "rem_a_b = a%b\n",
    "\n",
    "print (\"Sum: \",sum_of_ab)\n",
    "print (\"Difference:\",diff_of_ab)\n",
    "print (\"Product:\",product_of_ab)\n",
    "print (\"Division:\",div_of_ab)\n",
    "print (\"Div:\",div_of_ab_floor)\n",
    "print (\"Remainder:\",rem_a_b)"
   ]
  },
  {
   "cell_type": "markdown",
   "metadata": {},
   "source": [
    "# *String in Python*\n",
    "=> Collection of characters"
   ]
  },
  {
   "cell_type": "code",
   "execution_count": 6,
   "metadata": {},
   "outputs": [
    {
     "name": "stdout",
     "output_type": "stream",
     "text": [
      "No.of char: 16\n",
      "First character: D\n",
      "Fifth character: h\n",
      "Last character: t\n",
      "My name is: Dikshya Shrestha\n",
      "Dikshya Shrestha Dikshya and Shrestha\n",
      "Lowercase: dikshya shrestha\n",
      "Uppercase: DIKSHYA SHRESTHA\n",
      "Capitalize: Dikshya shrestha\n",
      "-1\n",
      "0\n",
      "Paragraph:  My name is Dikshya Shrestha. \n",
      "I live in Madhyapur Thimi, Bhaktapur. \n",
      "I am doing bachelor in BscIT in Presidential Graduate School.\n",
      "Short form:  PGS\n"
     ]
    }
   ],
   "source": [
    "name = \"Dikshya Shrestha\"\n",
    "# length of the string\n",
    "total_no_of_chars = len(name)\n",
    "print (\"No.of char:\",total_no_of_chars)\n",
    "\n",
    "# get first char\n",
    "first_char = name[0]\n",
    "print (\"First character:\",first_char)\n",
    "\n",
    "# get fifth char\n",
    "fifth_char = name[4]\n",
    "print (\"Fifth character:\",fifth_char)\n",
    "\n",
    "# third last char\n",
    "last_char = name[-3]\n",
    "print (\"Last character:\",last_char)\n",
    "\n",
    "\n",
    "#sub-string\n",
    "first_name= name[0:7] # 0-7\n",
    "last_name = name[8:16]\n",
    "print (\"My name is:\", first_name, last_name)\n",
    "\n",
    "#concatenation\n",
    "full_name = first_name + \" \" + last_name\n",
    "full_name1 = f\"{first_name} and {last_name}\"\n",
    "print (full_name, full_name1)\n",
    "\n",
    "print (\"Lowercase:\", name.lower())\n",
    "print (\"Uppercase:\", name.upper())\n",
    "print (\"Capitalize:\", name.capitalize())\n",
    "\n",
    "# check if a string exists in another string\n",
    "find_name = name.find(\"dikshya\") # returns -1 => not exist\n",
    "print (find_name)\n",
    "print (name.lower().find(\"dikshya\")) # returns 0 if exist\n",
    "\n",
    "#python multilines string (paragraph)\n",
    "\n",
    "paragraph = \"\"\"My name is Dikshya Shrestha. \n",
    "I live in Madhyapur Thimi, Bhaktapur. \n",
    "I am doing bachelor in BscIT in Presidential Graduate School.\"\"\"\n",
    "print (\"Paragraph: \",paragraph)\n",
    "\n",
    "# create short form using first letter of each word\n",
    "college_name= 'Presidential Graduate School'\n",
    "short_form = college_name [0] + college_name [13] + college_name [-6]\n",
    "print (\"Short form: \", short_form)"
   ]
  },
  {
   "cell_type": "markdown",
   "metadata": {},
   "source": [
    "# *Boolean*\n",
    "- True\n",
    "- False"
   ]
  },
  {
   "cell_type": "code",
   "execution_count": 7,
   "metadata": {},
   "outputs": [
    {
     "name": "stdout",
     "output_type": "stream",
     "text": [
      "True False\n"
     ]
    }
   ],
   "source": [
    "passed = True\n",
    "active = False\n",
    "print (passed, active)"
   ]
  },
  {
   "cell_type": "markdown",
   "metadata": {},
   "source": [
    "# *None*\n",
    "- None keyword is used for defining a null value (no value at all)"
   ]
  },
  {
   "cell_type": "code",
   "execution_count": null,
   "metadata": {},
   "outputs": [],
   "source": [
    "middle_name = None"
   ]
  },
  {
   "cell_type": "markdown",
   "metadata": {},
   "source": [
    "# **Composite Data Types**\n",
    "***Collection Types***\n",
    "\n",
    "- List          []\n",
    "- Dictionary    {}\n",
    "- Tuple         ()\n",
    "- Set\n",
    "- Range"
   ]
  },
  {
   "cell_type": "markdown",
   "metadata": {},
   "source": [
    "# *List*\n",
    "- A list is a mutable and ordered collection of elements in Python.\n",
    "- It allows duplicate elements and maintains the order of insertion.\n",
    "- Lists are versatile and can contain elements of different data types.\n",
    "- Lists are defined by enclosing comma-separated elements within square brackets []."
   ]
  },
  {
   "cell_type": "code",
   "execution_count": 1,
   "metadata": {},
   "outputs": [
    {
     "name": "stdout",
     "output_type": "stream",
     "text": [
      "After appending 'Sushi, Icecream':  ['Pizza', 'Momo', 'Sushi, Icecream']\n",
      "After inseting an item:  ['Pizza', 'Momo', 'Bhat', 'Sushi, Icecream']\n",
      "After removing 'Mono: ['Pizza', 'Bhat', 'Sushi, Icecream']\n",
      "Popped item: Sushi, Icecream\n",
      "list after popping: ['Pizza', 'Bhat']\n"
     ]
    }
   ],
   "source": [
    "favoriteFoods = ['Pizza', 'Momo'] # Create  new list\n",
    "\n",
    "numbers= [1,2,3,4,5,6,7]\n",
    "# length of list\n",
    "total_items = len(numbers)\n",
    "\n",
    "# Append an item to the list\n",
    "favoriteFoods.append ('Sushi, Icecream')\n",
    "print (\"After appending 'Sushi, Icecream': \", favoriteFoods)\n",
    "\n",
    "#Insert an item at a specific position\n",
    "favoriteFoods.insert (2, 'Bhat')\n",
    "print (\"After inseting an item: \", favoriteFoods)\n",
    "\n",
    "#Remove an item from the list\n",
    "favoriteFoods.remove('Momo')\n",
    "print (\"After removing 'Mono:\", favoriteFoods)\n",
    "\n",
    "#Pop an item from the list\n",
    "popped_item =  favoriteFoods.pop()\n",
    "del numbers[2]\n",
    "print (\"Popped item:\", popped_item)\n",
    "print (\"list after popping:\", favoriteFoods)"
   ]
  },
  {
   "cell_type": "markdown",
   "metadata": {},
   "source": [
    "# *Tuple*\n",
    "- Tuple is an immutable and ordered collection of elements in Python.\n",
    "- It allow duplicate elements and maintains the order of insertion.\n",
    "- Tuples are commonly used for representing fixed collections of related data.\n",
    "- Tuples are defined by enclosing comma-separated elements within parenthesis ()."
   ]
  },
  {
   "cell_type": "code",
   "execution_count": 9,
   "metadata": {},
   "outputs": [
    {
     "name": "stdout",
     "output_type": "stream",
     "text": [
      "Point tuple: (1, 2, 3)\n",
      "First element: 1\n",
      "Length of the tuple: 3\n"
     ]
    }
   ],
   "source": [
    "# Create a tuple representing a point in 3d space\n",
    "point= (1,2,3)\n",
    "#Printing the tuple\n",
    "print (\"Point tuple:\", point)\n",
    "#Ordered\n",
    "print (\"First element:\", point[0])\n",
    "#Size is fixed\n",
    "print (\"Length of the tuple:\", len(point))"
   ]
  },
  {
   "cell_type": "markdown",
   "metadata": {},
   "source": [
    "# *Set*\n",
    "- A set is a mutable and unordered collection of unique elements in python.\n",
    "- It doesnot allow duplicate elements and is primarily used for mathematical operation like- union, intersection and differences.\n",
    "- Set are defined by enclosing comma- separated elements with curly braces {}."
   ]
  },
  {
   "cell_type": "code",
   "execution_count": 10,
   "metadata": {},
   "outputs": [
    {
     "name": "stdout",
     "output_type": "stream",
     "text": [
      "Set of natural numbers: {1, 2, 3, 4}\n",
      "Number of unique numbers: 4\n",
      "Common items: {1, 3}\n"
     ]
    }
   ],
   "source": [
    "natural_numbers = {1,2,3,4}\n",
    "print(\"Set of natural numbers:\", natural_numbers)\n",
    "\n",
    "#Unique elements\n",
    "print (\"Number of unique numbers:\", len(natural_numbers))\n",
    "\n",
    "# Mutable\n",
    "natural_numbers.add(5)\n",
    "natural_numbers.remove (5)\n",
    "\n",
    "odd_numbers = {1,3,5,7,9}\n",
    "common_items= natural_numbers.intersection (odd_numbers)\n",
    "print (\"Common items:\",common_items)"
   ]
  },
  {
   "cell_type": "markdown",
   "metadata": {},
   "source": [
    "# *Dictionary*\n",
    "- A dictionary is a mutable and unordered collection of key- value pairs in Python.\n",
    "- It providesa mapping between keys and values, allowing efficient data retrieval.\n",
    "- Keys within a dictionary are unique and immutable, while values can be of any data type and mutable.\n",
    "- Dictionaries are defined by enclosing comma-separated key-value pairs within curly braces{ }, with each pair separated by a colon."
   ]
  },
  {
   "cell_type": "code",
   "execution_count": 11,
   "metadata": {},
   "outputs": [
    {
     "name": "stdout",
     "output_type": "stream",
     "text": [
      "Dikshya\n",
      "{'name': 'Dikshya', 'age': 30, 'occupation': 'Software Engineer', 'city': 'New York', 'marks': [1, 2, 3, 4, 5, 6], 'parents_info': {'father_name': 'Dipam Shrestha', 'address': 'Kathmandu'}}\n",
      "Yes\n",
      "\n",
      "Accessing value by key:\n",
      "Name: Dikshya\n",
      "Age: 40\n"
     ]
    }
   ],
   "source": [
    "#Create a student dictionary\n",
    "student = {\n",
    "    'name': 'Dikshya',\n",
    "    'age': 30,\n",
    "    'occupation': 'Software Engineer',\n",
    "    'city': 'New York',\n",
    "    'marks': [1,2,3,4,5,6],\n",
    "    'parents_info': {\n",
    "        'father_name': 'Dipam Shrestha',\n",
    "        'address': 'Kathmandu'\n",
    "    }\n",
    "}\n",
    "print (student['name'])\n",
    "\n",
    "# Print dictionary\n",
    "print (student)\n",
    "\n",
    "# add/update key value\n",
    "student ['address']= 'Kathmandu'\n",
    "student['age']= 40\n",
    "\n",
    "# check if key exists in dict\n",
    "if 'address' in student:\n",
    "    print ('Yes')\n",
    "\n",
    "# Accessing value by key\n",
    "print(\"\\nAccessing value by key:\")\n",
    "print (\"Name:\", student['name'])\n",
    "print (\"Age:\", student['age'])"
   ]
  },
  {
   "cell_type": "markdown",
   "metadata": {},
   "source": [
    "# *Range*"
   ]
  },
  {
   "cell_type": "code",
   "execution_count": 14,
   "metadata": {},
   "outputs": [
    {
     "name": "stdout",
     "output_type": "stream",
     "text": [
      "0\n",
      "1\n",
      "2\n",
      "3\n",
      "4\n",
      "5\n",
      "6\n",
      "7\n",
      "8\n",
      "9\n",
      "10\n",
      "11\n",
      "12\n",
      "13\n",
      "14\n",
      "15\n",
      "16\n",
      "17\n",
      "18\n",
      "19\n",
      "20\n",
      "21\n",
      "22\n",
      "23\n",
      "24\n",
      "25\n",
      "26\n",
      "27\n",
      "28\n",
      "29\n",
      "30\n",
      "31\n",
      "32\n",
      "33\n",
      "34\n",
      "35\n",
      "36\n",
      "37\n",
      "38\n",
      "39\n",
      "40\n",
      "41\n",
      "42\n",
      "43\n",
      "44\n",
      "45\n",
      "46\n",
      "47\n",
      "48\n",
      "49\n",
      "50\n"
     ]
    }
   ],
   "source": [
    "range_1_50 = range (0,51)\n",
    "for i in range_1_50:\n",
    "    print(i)"
   ]
  },
  {
   "cell_type": "markdown",
   "metadata": {},
   "source": [
    "# **Control Structures (Conditional Statements)**\n",
    "- if (less than 12)\n",
    "- if-else\n",
    "- if-elif-else (if-elseif-else)\n",
    "- Nested if statement\n",
    "- Ternary condition operator\n",
    "\n",
    "Note: Python doesnot have switch"
   ]
  },
  {
   "cell_type": "code",
   "execution_count": 15,
   "metadata": {},
   "outputs": [
    {
     "name": "stdout",
     "output_type": "stream",
     "text": [
      "GoodMorning\n",
      "test\n",
      "Say Goodmorning\n",
      "Its holiday\n",
      "petrol-powered value:\n",
      "20\n"
     ]
    }
   ],
   "source": [
    "time= 10\n",
    "#if\n",
    "if time <12:\n",
    "    print ('GoodMorning')\n",
    "    print('test')\n",
    "    print('Say Goodmorning')\n",
    "\n",
    "# if- else\n",
    "\n",
    "day='Saturday'\n",
    "if day=='Saturday':\n",
    "    print ('Its holiday')\n",
    "else:\n",
    "    print('Its weekday')\n",
    "\n",
    "# if-elif-else\n",
    "fuel_type='petrol'\n",
    "\n",
    "if fuel_type=='electric':\n",
    "    print(\"Electric vehicle\")\n",
    "elif fuel_type=='petrol':\n",
    "    print(\"petrol-powered value:\")\n",
    "elif fuel_type=='diesel':\n",
    "    print ('Diesel-powered vehicle')\n",
    "else:\n",
    "    print(\"Unknown fuel type\")\n",
    "\n",
    "#ternary operator\n",
    "x= 10\n",
    "y= 20\n",
    "max_value= x if x>y else y # c equivalent max_value = x>y ?x:y\n",
    "print (max_value)  # Output:20"
   ]
  },
  {
   "cell_type": "markdown",
   "metadata": {},
   "source": [
    "# **Loops**\n",
    "- for (iterates overs sequence of values or elements)\n",
    "- while (while loop executes the block of code repeatedly as long as the specified condition is true)\n",
    "\n",
    "# For Loop"
   ]
  },
  {
   "cell_type": "code",
   "execution_count": 16,
   "metadata": {},
   "outputs": [
    {
     "name": "stdout",
     "output_type": "stream",
     "text": [
      "1\n",
      "2\n",
      "3\n",
      "4\n",
      "5\n",
      "6\n",
      "Even number: [2, 4, 6]\n"
     ]
    }
   ],
   "source": [
    "# for loop over list\n",
    "numbers= [1,2,3,4,5,6]\n",
    "\n",
    "for num in numbers: #iterate over list using for loop\n",
    "    print(num)\n",
    "\n",
    "even_numbers = [num for num in numbers if num %2 ==0]  #filter even numbers\n",
    "print (\"Even number:\", even_numbers)"
   ]
  },
  {
   "cell_type": "markdown",
   "metadata": {},
   "source": [
    "# While Loop"
   ]
  },
  {
   "cell_type": "code",
   "execution_count": 2,
   "metadata": {},
   "outputs": [
    {
     "name": "stdout",
     "output_type": "stream",
     "text": [
      "0\n",
      "1\n",
      "2\n",
      "3\n",
      "4\n",
      "5\n",
      "6\n",
      "7\n",
      "8\n",
      "9\n",
      "10\n"
     ]
    }
   ],
   "source": [
    "count = 0\n",
    "while count<=10:\n",
    "    print (count)\n",
    "    count+=1"
   ]
  }
 ],
 "metadata": {
  "kernelspec": {
   "display_name": "base",
   "language": "python",
   "name": "python3"
  },
  "language_info": {
   "codemirror_mode": {
    "name": "ipython",
    "version": 3
   },
   "file_extension": ".py",
   "mimetype": "text/x-python",
   "name": "python",
   "nbconvert_exporter": "python",
   "pygments_lexer": "ipython3",
   "version": "3.12.4"
  }
 },
 "nbformat": 4,
 "nbformat_minor": 2
}
